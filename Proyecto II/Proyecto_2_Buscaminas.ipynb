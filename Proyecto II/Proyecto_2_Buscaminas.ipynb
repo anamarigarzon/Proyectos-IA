{
  "nbformat": 4,
  "nbformat_minor": 0,
  "metadata": {
    "colab": {
      "provenance": [],
      "collapsed_sections": []
    },
    "kernelspec": {
      "name": "python3",
      "display_name": "Python 3"
    },
    "language_info": {
      "name": "python"
    }
  },
  "cells": [
    {
      "cell_type": "markdown",
      "source": [
        "# Proyecto 2 - Inteligencia Artificial\n",
        "\n",
        "Realizado por: Ana María Garzón y Felipe Muñoz.\n",
        "\n",
        "Este proyecto se centra en la solución del juego de Buscaminas, haciendo uso de la lógica proposicional y el cálculo de eventos. Del mismo modo, se busca generar un modelo "
      ],
      "metadata": {
        "id": "-4ZOg5RnY6FZ"
      }
    },
    {
      "cell_type": "code",
      "source": [
        "from logica import *\n",
        "from ec import *\n",
        "from buscaminas import *\n",
        "import random as rd\n",
        "import numpy as np"
      ],
      "metadata": {
        "id": "Q33TcPMdCrwB"
      },
      "execution_count": null,
      "outputs": []
    },
    {
      "cell_type": "markdown",
      "source": [
        "#Ambiente de desarrollo\n",
        "El ambiente del programa cuenta con una clase que genera un tablero de buscaminas de un ancho, un largo y una cantidad de minas definidos. Le permite al usuario interactuar para seleccionar casillas y colocar banderas graficando el estado actual del juego, e indica el momento en el que acaba la partida, ya sea porque gana (encontrando todas las minas) o pierde (seleccionando una casilla que tiene una mina).\n",
        "\n",
        "Además, tiene atributos que permiten obtener las adyacencias de las casillas, los valores (numero de minas adyacentes) y los estados de las casillas (seleccionada, no seleccionada, con bandera...)\n"
      ],
      "metadata": {
        "id": "tdr5QMADZ3s_"
      }
    },
    {
      "cell_type": "markdown",
      "source": [
        "# Creación de Base de Conocimiento\n",
        "\n",
        "## Hechos\n",
        "\n",
        "Luego de seleccionar una casilla, comienza a construirse una base de conocimiento que incluye los perceptos: casillas abiertas (casillas de las cuales conocemos su valor) y sus respectivos valores y casillas cerradas. Para esto usamos la función $hechos\\_global$"
      ],
      "metadata": {
        "id": "wJvzD7SU51_j"
      }
    },
    {
      "cell_type": "code",
      "source": [
        "def hechos_global(tab):\n",
        "  hechos = []\n",
        "  for casilla in tab.casillas:\n",
        "    x,y = casilla\n",
        "    if tab.tablero[x][y].seleccionado and tab.tablero[x][y].valor != 0 and not tab.flags[x][y]:\n",
        "      hechos += [f'valor_{x},{y}({tab.tablero[x][y].valor})']\n",
        "    elif not tab.tablero[x][y].seleccionado and tab.tablero[x][y].valor != 0 and not tab.flags[x][y]:\n",
        "      hechos += [f'no_abierta({x},{y})']\n",
        "    elif tab.tablero[x][y].seleccionado and tab.tablero[x][y].valor != 0 and tab.flags[x][y]:\n",
        "      hechos += [f'bandera({x}, {y})']\n",
        "  return hechos\n",
        "\n",
        "hechos_tablero = hechos_global(tab)"
      ],
      "metadata": {
        "id": "VK9_JccO51tE"
      },
      "execution_count": null,
      "outputs": []
    },
    {
      "cell_type": "markdown",
      "source": [
        "##Reglas de posicionamiento y selección\n",
        "\n",
        "Una vez se tienen los hechos (perceptos) los cuales se obtienen de observar el entorno, en este caso, el tablero,es posible definir ciertas reglas que entregan la información necesaria para ganar el juego de manera efectiva. La solución propuesta se centra en dos procesos principales, los cuales permiten construir de manera iterativa las diferentes reglas que permiten obtener las reglas del juego.\n",
        "\n",
        "A continuación, se definen las funciones buscar_minas y seleccionar_minas para generar las reglas que indican donde colocar las bandera, con el fin de deducir donde estan las minas y que casillas no tienen mina y pueden seleccionarse para continuar el juego de manera segura.\n"
      ],
      "metadata": {
        "id": "OoX1PzMN1tFC"
      }
    },
    {
      "cell_type": "code",
      "source": [
        "#FUNCIÓN QUE GENERA LAS REGLAS PARA PONER BANDERAS SEGÚN LAS CASILLAS ABIERTAS\n",
        "\n",
        "def buscar_minas(tab):\n",
        "  reglas = []\n",
        "  for casilla in tab.casillas:\n",
        "    formula = ''\n",
        "    ady_no_seleccionadas = []\n",
        "    cont_sin_flag = 0\n",
        "    cont_con_flag = 0\n",
        "    x,y = casilla\n",
        "    if tab.tablero[x][y].seleccionado and tab.tablero[x][y].valor != 0 and not tab.flags[x][y]:\n",
        "      #print(casilla, \"valor: \",tab.tablero[x][y].valor)\n",
        "      formula += f'valor_{x},{y}({tab.tablero[x][y].valor})'\n",
        "      for ady in adyacentes(casilla,8):\n",
        "        x_ady, y_ady = ady\n",
        "        if not tab.tablero[x_ady][y_ady].seleccionado:\n",
        "          #print(\"Casilla \", x_ady, \",\", y_ady, \"no seleccionada\")\n",
        "          if not tab.flags[x_ady][y_ady]:\n",
        "            #print(\"Casilla \", x_ady, \",\", y_ady, \"sin bandera\")\n",
        "            ady_no_seleccionadas.append(ady)\n",
        "            cont_sin_flag += 1\n",
        "            formula += f'Yno_abierta({x_ady},{y_ady})'\n",
        "        elif tab.tablero[x_ady][y_ady].seleccionado and tab.flags[x_ady][y_ady]:\n",
        "          cont_con_flag += 1\n",
        "          formula += f'Ybandera({x_ady}, {y_ady})'\n",
        "    if tab.tablero[x][y].valor == cont_sin_flag + cont_con_flag:\n",
        "      i = 0\n",
        "      for casilla_peligrosa in ady_no_seleccionadas:\n",
        "        x_mina, y_mina = casilla_peligrosa\n",
        "        if i == 0:\n",
        "          formula+= f'>bandera({x_mina}, {y_mina})'\n",
        "        else:\n",
        "          formula+= f'Ybandera({x_mina}, {y_mina})'\n",
        "        reglas += [formula]\n",
        "        i +=1\n",
        "  return reglas"
      ],
      "metadata": {
        "id": "0ZVOeF9_2x29"
      },
      "execution_count": null,
      "outputs": []
    },
    {
      "cell_type": "code",
      "source": [
        "def seleccionar_casilla(tab): \n",
        "  # Si se puede deducir por lo menos una casilla sin minas\n",
        "  reglas = []\n",
        "  for casilla in tab.casillas:\n",
        "    formula = ''\n",
        "    ady_no_seleccionadas = []\n",
        "    cont_sin_flag = 0\n",
        "    cont_con_flag = 0\n",
        "    x,y = casilla\n",
        "    \n",
        "    if tab.tablero[x][y].seleccionado and tab.tablero[x][y].valor != 0 and not tab.flags[x][y]:\n",
        "      #print(casilla, \"valor: \",tab.tablero[x][y].valor)\n",
        "      formula += f'valor_{x},{y}({tab.tablero[x][y].valor})'\n",
        "      for ady in adyacentes(casilla,tab.width):\n",
        "        x_ady, y_ady = ady\n",
        "        if not tab.tablero[x_ady][y_ady].seleccionado:\n",
        "          #print(\"Casilla \", x_ady, \",\", y_ady, \"no seleccionada\")\n",
        "          if not tab.flags[x_ady][y_ady]:\n",
        "            #print(\"Casilla \", x_ady, \",\", y_ady, \"sin bandera\")\n",
        "            ady_no_seleccionadas.append(ady)\n",
        "            cont_sin_flag += 1\n",
        "            formula += f'Yno_abierta({x_ady},{y_ady})'\n",
        "        elif tab.flags[x_ady][y_ady]:\n",
        "          cont_con_flag += 1\n",
        "          formula += f'Ybandera({x_ady}, {y_ady})'\n",
        "          #print(\"Casilla \", x_ady, \",\", y_ady, \"con bandera\")\n",
        "            \n",
        "    if tab.tablero[x][y].valor == cont_con_flag:\n",
        "      #print(formula)\n",
        "      i = 0\n",
        "      for j in ady_no_seleccionadas:\n",
        "        x_no_mina, y_no_mina = j\n",
        "        if i == 0:\n",
        "          formula+= f'>libre({x_no_mina}, {y_no_mina})'\n",
        "        else:\n",
        "          formula+= f'Ylibre({x_no_mina}, {y_no_mina})'\n",
        "        reglas += [formula]\n",
        "        i += 1\n",
        "        #zprint(reglas)\n",
        "        #tab.transicion(j) # PREGUNTAR\n",
        "\n",
        "  # Si no se puede deducir una casilla sin minas, se elige una al azar\n",
        "\n",
        "  return reglas"
      ],
      "metadata": {
        "id": "8LmNfhXbwsje"
      },
      "execution_count": null,
      "outputs": []
    },
    {
      "cell_type": "markdown",
      "source": [
        "#Ejemplo\n",
        "\n",
        "Para comenzar, inicializamos un tablero y seleccionamos la casilla (1,1)"
      ],
      "metadata": {
        "id": "SaOAd69uHpss"
      }
    },
    {
      "cell_type": "code",
      "source": [
        "tab = Buscaminas(8,8,5)\n",
        "tab.transicion((1,1))\n",
        "tab.pintar_casilla()"
      ],
      "metadata": {
        "colab": {
          "base_uri": "https://localhost:8080/",
          "height": 264
        },
        "id": "orKnaHtOE0Oy",
        "outputId": "90c0c071-6909-4fbf-f739-ac44991e60e3"
      },
      "execution_count": null,
      "outputs": [
        {
          "output_type": "execute_result",
          "data": {
            "text/plain": [
              "<matplotlib.axes._axes.Axes at 0x7ff52aaf0550>"
            ]
          },
          "metadata": {},
          "execution_count": 538
        },
        {
          "output_type": "display_data",
          "data": {
            "text/plain": [
              "<Figure size 240x240 with 1 Axes>"
            ],
            "image/png": "[encoded data removed]"
          },
          "metadata": {}
        }
      ]
    },
    {
      "cell_type": "markdown",
      "source": [
        "A partir del estado actual del tablero, utilizamos la función buscar_minas para identificar los lugares en los cuales se puede deducir la existencia de minas y generamos las reglas."
      ],
      "metadata": {
        "id": "fmmxq-yMH62h"
      }
    },
    {
      "cell_type": "code",
      "source": [
        "reglas1 = buscar_minas(tab)\n",
        "for i in reglas1:\n",
        "  print(i)"
      ],
      "metadata": {
        "colab": {
          "base_uri": "https://localhost:8080/"
        },
        "id": "tqbMwA7SE5J4",
        "outputId": "9111a63b-57c5-4520-9bcb-036e6e494162"
      },
      "execution_count": null,
      "outputs": [
        {
          "output_type": "stream",
          "name": "stdout",
          "text": [
            "valor_0,4(1)Yno_abierta(0,5)>bandera(0, 5)\n",
            "valor_1,4(1)Yno_abierta(0,5)>bandera(0, 5)\n",
            "valor_4,5(1)Yno_abierta(3,6)>bandera(3, 6)\n",
            "valor_4,6(2)Yno_abierta(3,6)Yno_abierta(3,7)>bandera(3, 6)\n",
            "valor_4,6(2)Yno_abierta(3,6)Yno_abierta(3,7)>bandera(3, 6)Ybandera(3, 7)\n",
            "valor_4,7(2)Yno_abierta(3,6)Yno_abierta(3,7)>bandera(3, 6)\n",
            "valor_4,7(2)Yno_abierta(3,6)Yno_abierta(3,7)>bandera(3, 6)Ybandera(3, 7)\n",
            "valor_5,2(1)Yno_abierta(6,3)>bandera(6, 3)\n",
            "valor_5,3(1)Yno_abierta(6,3)>bandera(6, 3)\n",
            "valor_5,4(1)Yno_abierta(6,3)>bandera(6, 3)\n"
          ]
        }
      ]
    },
    {
      "cell_type": "markdown",
      "source": [
        "Teniendo en cuenta los consecuentes de las reglas generadas, agregamos las banderas correspondientes al tablero de juego"
      ],
      "metadata": {
        "id": "T2ASMmn1IlKx"
      }
    },
    {
      "cell_type": "code",
      "source": [
        "tab.agregar_quitar_bandera((0,5))\n",
        "tab.agregar_quitar_bandera((3,6))\n",
        "tab.agregar_quitar_bandera((3,7))\n",
        "tab.agregar_quitar_bandera((6,3))\n",
        "tab.pintar_casilla()"
      ],
      "metadata": {
        "colab": {
          "base_uri": "https://localhost:8080/",
          "height": 264
        },
        "id": "4vb7TGbrE-VJ",
        "outputId": "d10b3bf2-46da-4713-b65f-fde220aeeb56"
      },
      "execution_count": null,
      "outputs": [
        {
          "output_type": "execute_result",
          "data": {
            "text/plain": [
              "<matplotlib.axes._axes.Axes at 0x7ff52a09e150>"
            ]
          },
          "metadata": {},
          "execution_count": 540
        },
        {
          "output_type": "display_data",
          "data": {
            "text/plain": [
              "<Figure size 240x240 with 1 Axes>"
            ],
            "image/png": "[encoded data removed]"
          },
          "metadata": {}
        }
      ]
    },
    {
      "cell_type": "markdown",
      "source": [
        "Es evidente que la casilla (2,6) no tiene mina, así que usaremos la funcion seleccionar_casilla para identificar aquellas que deben abrirse para continuar el juego, añadir las reglas a la base de conocimiento y usar la función ASK para verificar que efectivamente, esa casilla sería seleccionada en el próximo turno.\n"
      ],
      "metadata": {
        "id": "1J1mWAfHI5sA"
      }
    },
    {
      "cell_type": "code",
      "source": [
        "hechos_tablero =  hechos_global(tab)\n",
        "reglas1 += seleccionar_casilla(tab)"
      ],
      "metadata": {
        "id": "ZnL4v71dFdnp"
      },
      "execution_count": null,
      "outputs": []
    },
    {
      "cell_type": "code",
      "source": [
        "BC = LPQuery(reglas1)\n",
        "for h in hechos_tablero:\n",
        "      BC.TELL(h)\n",
        "print(BC)"
      ],
      "metadata": {
        "colab": {
          "base_uri": "https://localhost:8080/"
        },
        "id": "PxlPLp-vFnvw",
        "outputId": "f701ae76-5bea-4c89-dc5f-f73ed80334e1"
      },
      "execution_count": null,
      "outputs": [
        {
          "output_type": "stream",
          "name": "stdout",
          "text": [
            "Datos:\n",
            "valor_0,4(1)\n",
            "bandera(0, 5)\n",
            "no_abierta(0,6)\n",
            "valor_1,4(1)\n",
            "valor_1,5(1)\n",
            "no_abierta(1,6)\n",
            "valor_2,5(1)\n",
            "no_abierta(2,6)\n",
            "no_abierta(2,7)\n",
            "valor_3,5(1)\n",
            "bandera(3, 6)\n",
            "bandera(3, 7)\n",
            "valor_4,5(1)\n",
            "valor_4,6(2)\n",
            "valor_4,7(2)\n",
            "valor_5,2(1)\n",
            "valor_5,3(1)\n",
            "valor_5,4(1)\n",
            "valor_6,0(1)\n",
            "valor_6,1(1)\n",
            "valor_6,2(2)\n",
            "bandera(6, 3)\n",
            "valor_6,4(1)\n",
            "no_abierta(7,0)\n",
            "no_abierta(7,1)\n",
            "no_abierta(7,2)\n",
            "no_abierta(7,3)\n",
            "valor_7,4(1)\n",
            "\n",
            "Reglas:\n",
            "valor_0,4(1)Yno_abierta(0,5)>bandera(0, 5)\n",
            "valor_1,4(1)Yno_abierta(0,5)>bandera(0, 5)\n",
            "valor_4,5(1)Yno_abierta(3,6)>bandera(3, 6)\n",
            "valor_4,6(2)Yno_abierta(3,6)Yno_abierta(3,7)>bandera(3, 6)\n",
            "valor_4,6(2)Yno_abierta(3,6)Yno_abierta(3,7)>bandera(3, 6)Ybandera(3, 7)\n",
            "valor_4,7(2)Yno_abierta(3,6)Yno_abierta(3,7)>bandera(3, 6)\n",
            "valor_4,7(2)Yno_abierta(3,6)Yno_abierta(3,7)>bandera(3, 6)Ybandera(3, 7)\n",
            "valor_5,2(1)Yno_abierta(6,3)>bandera(6, 3)\n",
            "valor_5,3(1)Yno_abierta(6,3)>bandera(6, 3)\n",
            "valor_5,4(1)Yno_abierta(6,3)>bandera(6, 3)\n",
            "valor_1,5(1)Yno_abierta(2,6)Yno_abierta(0,6)Ybandera(0, 5)Yno_abierta(1,6)>libre(2, 6)\n",
            "valor_1,5(1)Yno_abierta(2,6)Yno_abierta(0,6)Ybandera(0, 5)Yno_abierta(1,6)>libre(2, 6)Ylibre(0, 6)\n",
            "valor_1,5(1)Yno_abierta(2,6)Yno_abierta(0,6)Ybandera(0, 5)Yno_abierta(1,6)>libre(2, 6)Ylibre(0, 6)Ylibre(1, 6)\n",
            "valor_2,5(1)Yno_abierta(2,6)Yno_abierta(1,6)Ybandera(3, 6)>libre(2, 6)\n",
            "valor_2,5(1)Yno_abierta(2,6)Yno_abierta(1,6)Ybandera(3, 6)>libre(2, 6)Ylibre(1, 6)\n",
            "valor_3,5(1)Yno_abierta(2,6)Ybandera(3, 6)>libre(2, 6)\n",
            "valor_6,4(1)Yno_abierta(7,3)Ybandera(6, 3)>libre(7, 3)\n",
            "valor_7,4(1)Yno_abierta(7,3)Ybandera(6, 3)>libre(7, 3)\n",
            "\n"
          ]
        }
      ]
    },
    {
      "cell_type": "code",
      "source": [
        "ASK('libre(2, 6)', 'success', BC)"
      ],
      "metadata": {
        "id": "xxMlHxVtGC3e",
        "outputId": "cf20355b-80e7-452d-8b99-889890d01b7b",
        "colab": {
          "base_uri": "https://localhost:8080/"
        }
      },
      "execution_count": null,
      "outputs": [
        {
          "output_type": "execute_result",
          "data": {
            "text/plain": [
              "True"
            ]
          },
          "metadata": {},
          "execution_count": 543
        }
      ]
    },
    {
      "cell_type": "markdown",
      "source": [
        "# Implementación\n",
        "\n",
        "Primero, haremos funciones que permiten crear juegos y elegir casillas seguras siempre"
      ],
      "metadata": {
        "id": "GfUDNq9KJ4Oc"
      }
    },
    {
      "cell_type": "code",
      "source": [
        "def iniciar_juego_aleatorio(minas):\n",
        "  tab = Buscaminas(8,8,num_minas=minas)\n",
        "  tab.transicion((rd.randint(0,tab.width-1),rd.randint(0,tab.height-1)))\n",
        "  return tab\n",
        "\n",
        "\n",
        "def iniciar_juego_sin_adivinar(minas):\n",
        "  tab = Buscaminas(8,8,num_minas=minas)\n",
        "  for i in tab.casillas:\n",
        "    x,y = i\n",
        "    if tab.tablero[x][y].valor == 0:\n",
        "      tab.transicion((x,y))\n",
        "      return tab\n",
        "\n",
        "def elegir_casilla_segura(tab):\n",
        "  for i in tab.casillas:\n",
        "    x,y = i\n",
        "    if tab.tablero[x][y].valor != -1 and not tab.tablero[x][y].seleccionado:\n",
        "      tab.transicion((x,y))\n",
        "      break\n",
        "\n"
      ],
      "metadata": {
        "id": "80pAn52X_huV"
      },
      "execution_count": null,
      "outputs": []
    },
    {
      "cell_type": "markdown",
      "source": [
        "Ahora, a partir de las funciones que crean el juego y eligen casillas seguras, creamos una función que utiliza la base de conocimiento para deducir la solución del juego."
      ],
      "metadata": {
        "id": "1PKi-EgTKG8G"
      }
    },
    {
      "cell_type": "code",
      "source": [
        "#Función que utiliza la base de conocimiento para deducir la solución del juego \n",
        "\n",
        "def jugar_2(tab):\n",
        "  iteraciones = 0\n",
        "  BC = LPQuery([])\n",
        "  while tab.juego_activo and iteraciones <= 100:\n",
        "    #print(BC)\n",
        "    hechos_BC = hechos_global(tab)\n",
        "    reglas_minas = buscar_minas(tab)\n",
        "\n",
        "    for h in hechos_BC:\n",
        "      BC.TELL(h)\n",
        "\n",
        "    for r_m in reglas_minas:\n",
        "      BC.TELL(r_m)\n",
        "\n",
        "    for casilla in tab.casillas:\n",
        "      x,y = casilla\n",
        "      inferencia = ASK(f'bandera({x}, {y})', 'success', BC)\n",
        "      if inferencia and not tab.flags[x][y]:\n",
        "        tab.agregar_quitar_bandera((x,y))\n",
        "\n",
        "    reglas_libres = seleccionar_casilla(tab)\n",
        "    for r_l in reglas_libres:\n",
        "      BC.TELL(r_l)\n",
        "\n",
        "    seleccion = False\n",
        "    for casilla in tab.casillas:\n",
        "      x,y = casilla\n",
        "      inferencia = ASK(f'libre({x}, {y})', 'success', BC)\n",
        "      if inferencia and not tab.tablero[x][y].seleccionado:\n",
        "        #print(x,',',y,' seleccionado')\n",
        "        seleccion = True\n",
        "        tab.transicion((x,y))\n",
        "    if not seleccion:\n",
        "      #print(\"Al azar\")\n",
        "      elegir_casilla_segura(tab)\n",
        "\n",
        "    iteraciones += 1\n",
        "    #tab.pintar_casilla()\n",
        "  #print(BC)"
      ],
      "metadata": {
        "id": "RokSYq01A6p4"
      },
      "execution_count": null,
      "outputs": []
    },
    {
      "cell_type": "markdown",
      "source": [
        "Ahora, mostraremos el funcionamiento de la función"
      ],
      "metadata": {
        "id": "LoeQsx6eKzj5"
      }
    },
    {
      "cell_type": "code",
      "source": [
        "tab = iniciar_juego_aleatorio(4)\n",
        "tab.pintar_casilla()"
      ],
      "metadata": {
        "colab": {
          "base_uri": "https://localhost:8080/",
          "height": 264
        },
        "id": "iT32ZXaTPYBi",
        "outputId": "b600927b-3d35-4220-ef37-fbffa739f610"
      },
      "execution_count": null,
      "outputs": [
        {
          "output_type": "execute_result",
          "data": {
            "text/plain": [
              "<matplotlib.axes._axes.Axes at 0x7ff526c3ae50>"
            ]
          },
          "metadata": {},
          "execution_count": 500
        },
        {
          "output_type": "display_data",
          "data": {
            "text/plain": [
              "<Figure size 240x240 with 1 Axes>"
            ],
            "image/png": "[encoded data removed]"
          },
          "metadata": {}
        }
      ]
    },
    {
      "cell_type": "code",
      "source": [
        "jugar_2(tab)"
      ],
      "metadata": {
        "id": "KhN503kfP0C_"
      },
      "execution_count": null,
      "outputs": []
    },
    {
      "cell_type": "code",
      "source": [
        "tab.pintar_todo()\n",
        "print(tab.ganar)"
      ],
      "metadata": {
        "colab": {
          "base_uri": "https://localhost:8080/",
          "height": 264
        },
        "id": "ZFHaRGMeRliO",
        "outputId": "e0873d86-63e4-4e84-fb21-cc738023c542"
      },
      "execution_count": null,
      "outputs": [
        {
          "output_type": "stream",
          "name": "stdout",
          "text": [
            "1\n"
          ]
        },
        {
          "output_type": "display_data",
          "data": {
            "text/plain": [
              "<Figure size 240x240 with 1 Axes>"
            ],
            "image/png": "[encoded data removed]"
          },
          "metadata": {}
        }
      ]
    },
    {
      "cell_type": "code",
      "source": [
        "jugar_2(tab)"
      ],
      "metadata": {
        "id": "am225BG9URJj"
      },
      "execution_count": null,
      "outputs": []
    },
    {
      "cell_type": "markdown",
      "source": [
        "# Evaluación\n",
        "\n",
        "Finalmente, evaluaremos el desempeño de la implementación de la solución ejecutando 100 veces juegos que tienen de 5 a 12 minas; sacando el porcentaje de error."
      ],
      "metadata": {
        "id": "Ba36_yM1Kw_y"
      }
    },
    {
      "cell_type": "code",
      "source": [
        "total_juegos = 100\n",
        "for i in range(5,13):\n",
        "    juegos_perdidos = 0\n",
        "    for j in range(total_juegos):\n",
        "        tab = iniciar_juego_sin_adivinar(i)\n",
        "        jugar_2(tab)\n",
        "        if tab.ganar == -1:\n",
        "            juegos_perdidos += 1    \n",
        "    print(\"Porcentaje de juegos perdidos con \",i,\" minas: \",(juegos_perdidos/total_juegos)*100, \"%\")"
      ],
      "metadata": {
        "colab": {
          "base_uri": "https://localhost:8080/"
        },
        "id": "v2DtROtHAat_",
        "outputId": "76ba120c-2b47-4f33-d532-a13a5cd729ef"
      },
      "execution_count": null,
      "outputs": [
        {
          "output_type": "stream",
          "name": "stdout",
          "text": [
            "Porcentaje de juegos perdidos con  5  minas:  8.0 %\n",
            "Porcentaje de juegos perdidos con  6  minas:  12.0 %\n",
            "Porcentaje de juegos perdidos con  7  minas:  8.0 %\n",
            "Porcentaje de juegos perdidos con  8  minas:  13.0 %\n",
            "Porcentaje de juegos perdidos con  9  minas:  15.0 %\n",
            "Porcentaje de juegos perdidos con  10  minas:  9.0 %\n",
            "Porcentaje de juegos perdidos con  11  minas:  6.0 %\n",
            "Porcentaje de juegos perdidos con  12  minas:  6.0 %\n"
          ]
        }
      ]
    }
  ]
}