{
  "cells": [
    {
      "cell_type": "markdown",
      "id": "35b4097f",
      "metadata": {
        "id": "35b4097f"
      },
      "source": [
        "# Proyecto 1 - Torres de Hanoi\n",
        "\n",
        "##### Ana María Garzón y Felipe Muñoz\n",
        "\n",
        "Este proyecto tiene como objetivo encontrar la mejor secuencia para solucionar una versión del problema de las Torres de Hanoi. Este tiene como entorno tres postes y un conjunto de discos, cada uno con un hoyo en el centro y todos de distinto radio. El estado inicial del problema consiste en que todos los discos se encuentran ubicados en un único poste y cada disco descansa sobre otro de radio mayor. El problema a solucionar es mover todos los discos a otro poste, de modo que solo se puede mover un disco a la vez y todos los demás discos deben estar en un poste. Además, no se puede poner un disco sobre uno de menor radio."
      ]
    },
    {
      "cell_type": "markdown",
      "id": "e29afc51",
      "metadata": {
        "id": "e29afc51"
      },
      "source": [
        "### Ambiente y métodos"
      ]
    },
    {
      "cell_type": "markdown",
      "id": "3d5573cd",
      "metadata": {
        "id": "3d5573cd"
      },
      "source": [
        "Para comenzar, importaremos el ambiente creado por Daniel Ramírez y Jenny Rivera"
      ]
    },
    {
      "cell_type": "code",
      "execution_count": 65,
      "id": "815800fe",
      "metadata": {
        "id": "815800fe"
      },
      "outputs": [],
      "source": [
        "from AmbientesMP import *\n",
        "from busqueda import *\n",
        "from tiempos import *\n",
        "prob = Hannoi()"
      ]
    },
    {
      "cell_type": "markdown",
      "id": "ecc59818",
      "metadata": {
        "id": "ecc59818"
      },
      "source": [
        "A continuación, la visualización del estado inicial para un problema con tres discos."
      ]
    },
    {
      "cell_type": "code",
      "execution_count": null,
      "id": "877f8dcc",
      "metadata": {
        "id": "877f8dcc",
        "outputId": "f0ac055b-f2c5-425b-bfde-4145573c3353",
        "colab": {
          "base_uri": "https://localhost:8080/",
          "height": 266
        }
      },
      "outputs": [
        {
          "output_type": "execute_result",
          "data": {
            "text/plain": [
              "<matplotlib.axes._subplots.AxesSubplot at 0x7f36823b6350>"
            ]
          },
          "metadata": {},
          "execution_count": 5
        },
        {
          "output_type": "display_data",
          "data": {
            "text/plain": [
              "<Figure size 432x288 with 1 Axes>"
            ],
            "image/png": "[encoded data removed]"
          },
          "metadata": {
            "needs_background": "light"
          }
        }
      ],
      "source": [
        "s0 = prob.estado_inicial\n",
        "prob.pintar_estado(s0)"
      ]
    },
    {
      "cell_type": "markdown",
      "id": "9aedd26c",
      "metadata": {
        "id": "9aedd26c"
      },
      "source": [
        "Ahora, mostraremos como funcionan las transiciones del ambiente:"
      ]
    },
    {
      "cell_type": "code",
      "execution_count": null,
      "id": "ddf5b4ed",
      "metadata": {
        "id": "ddf5b4ed",
        "outputId": "7457f4cc-0da5-4372-a19b-33a464ee2f99",
        "colab": {
          "base_uri": "https://localhost:8080/"
        }
      },
      "outputs": [
        {
          "output_type": "execute_result",
          "data": {
            "text/plain": [
              "[[1.0, 2.0, 1.0], [1.0, 2.0, 2.0]]"
            ]
          },
          "metadata": {},
          "execution_count": 6
        }
      ],
      "source": [
        "# Método acciones aplicables\n",
        "# Retorna un arreglo de listas con 3 componentes: 1 el radio de la ficha a mover,\n",
        "# 2 la fila a la que se debe mover, 3 la columna\n",
        "prob.acciones_aplicables(s0) "
      ]
    },
    {
      "cell_type": "code",
      "execution_count": null,
      "id": "9d024d00",
      "metadata": {
        "id": "9d024d00",
        "outputId": "798d2317-b2df-4cf2-f1fb-72bd2091c136",
        "colab": {
          "base_uri": "https://localhost:8080/",
          "height": 266
        }
      },
      "outputs": [
        {
          "output_type": "stream",
          "name": "stdout",
          "text": [
            "El costo de está acción es:  1\n"
          ]
        },
        {
          "output_type": "display_data",
          "data": {
            "text/plain": [
              "<Figure size 432x288 with 1 Axes>"
            ],
            "image/png": "[encoded data removed]"
          },
          "metadata": {
            "needs_background": "light"
          }
        }
      ],
      "source": [
        "# Ejecutar accion aplicable en la posición 0\n",
        "# Mueve la ficha de radio 1, a la fila 2 y columna 1\n",
        "a = prob.acciones_aplicables(s0)[0]\n",
        "s1 = prob.transicion(s0,a) # método de transición de un estado a otro\n",
        "prob.pintar_estado(s1)\n",
        "print(\"El costo de está acción es: \", prob.costo(s0,a)) # El costo de mover una ficha es de 1"
      ]
    },
    {
      "cell_type": "code",
      "execution_count": null,
      "id": "8069a8f1",
      "metadata": {
        "id": "8069a8f1",
        "outputId": "6b4171a1-b728-41f7-b944-1f538b03c848",
        "colab": {
          "base_uri": "https://localhost:8080/"
        }
      },
      "outputs": [
        {
          "output_type": "stream",
          "name": "stdout",
          "text": [
            "4.0-4.0-4.0-2.0-4.0-4.0-3.0-1.0-4.0\n"
          ]
        }
      ],
      "source": [
        "# Método código\n",
        "# Cada estado tiene un código único que lo diferencia de los demás, retornado con este método\n",
        "print(prob.codigo(s1))"
      ]
    },
    {
      "cell_type": "code",
      "execution_count": null,
      "id": "017f6e9c",
      "metadata": {
        "id": "017f6e9c",
        "outputId": "587a9289-47bb-4317-fa78-af1bd7c9c4b0",
        "colab": {
          "base_uri": "https://localhost:8080/"
        }
      },
      "outputs": [
        {
          "output_type": "execute_result",
          "data": {
            "text/plain": [
              "False"
            ]
          },
          "metadata": {},
          "execution_count": 13
        }
      ],
      "source": [
        "# Método test objetivo\n",
        "# Retorna verdadero o falso\n",
        "# Evalúa si el estado (input) corresponde o no a la solución del problema.\n",
        "prob.test_objetivo(s1)"
      ]
    },
    {
      "cell_type": "markdown",
      "source": [
        "Como se puede ver en la figura, el disco de radio de menor radio se ha movido, sin embargo, este movimiento no ha logrado un\n",
        "estado considerado como válido para solucionar al problema, es por esto que falla el test objetivo.\n",
        "\n",
        "Con el fin de illustrar mostraremos un escenario final donde el test objetivo debe retornar aprobado."
      ],
      "metadata": {
        "id": "8T8VUN58ZOml"
      },
      "id": "8T8VUN58ZOml"
    },
    {
      "cell_type": "code",
      "source": [
        "prob.acciones_aplicables(s1)\n",
        "\n",
        "for accion in prob.acciones_aplicables(s1):\n",
        "  s = prob.transicion(s1,accion)\n",
        "  prob.pintar_estado(s)"
      ],
      "metadata": {
        "colab": {
          "base_uri": "https://localhost:8080/",
          "height": 710
        },
        "id": "k54_7o9nZuD8",
        "outputId": "6fa59b40-2922-4b24-de03-4359c971c65f"
      },
      "id": "k54_7o9nZuD8",
      "execution_count": null,
      "outputs": [
        {
          "output_type": "display_data",
          "data": {
            "text/plain": [
              "<Figure size 432x288 with 1 Axes>"
            ],
            "image/png": "[encoded data removed]"
          },
          "metadata": {
            "needs_background": "light"
          }
        },
        {
          "output_type": "display_data",
          "data": {
            "text/plain": [
              "<Figure size 432x288 with 1 Axes>"
            ],
            "image/png": "[encoded data removed]"
          },
          "metadata": {
            "needs_background": "light"
          }
        },
        {
          "output_type": "display_data",
          "data": {
            "text/plain": [
              "<Figure size 432x288 with 1 Axes>"
            ],
            "image/png": "[encoded data removed]"
          },
          "metadata": {
            "needs_background": "light"
          }
        }
      ]
    },
    {
      "cell_type": "code",
      "execution_count": null,
      "id": "d040841c",
      "metadata": {
        "id": "d040841c",
        "colab": {
          "base_uri": "https://localhost:8080/",
          "height": 265
        },
        "outputId": "f7a5d875-e90a-43c8-ea03-894c59d517d2"
      },
      "outputs": [
        {
          "output_type": "stream",
          "name": "stdout",
          "text": [
            "El estado supera el test objetivo:  True\n"
          ]
        },
        {
          "output_type": "display_data",
          "data": {
            "text/plain": [
              "<Figure size 432x288 with 1 Axes>"
            ],
            "image/png": "[encoded data removed]"
          },
          "metadata": {
            "needs_background": "light"
          }
        }
      ],
      "source": [
        "a = prob.acciones_aplicables(s1)[2]\n",
        "s2 = prob.transicion(s1,a) \n",
        "\n",
        "\n",
        "\n",
        "a = [2.0, 2.0, 1.0]\n",
        "s3 = prob.transicion(s2,a) \n",
        "\n",
        "a = [1.0, 1.0, 0.0]\n",
        "s4 = prob.transicion(s3,a) \n",
        "\n",
        "a = [2.0, 2.0, 2.0]\n",
        "s5 = prob.transicion(s4,a)\n",
        "\n",
        "a= [1.0, 1.0, 2.0]\n",
        "s6 = prob.transicion(s5,a)\n",
        "\n",
        "a = [3.0, 2.0, 1.0]\n",
        "s7 = prob.transicion(s6,a)\n",
        "\n",
        "a = [1.0, 1.0, 1.0]\n",
        "s8 = prob.transicion(s7,a)\n",
        "\n",
        "a = [2.0, 2.0, 0.0]\n",
        "s9 = prob.transicion(s8,a)\n",
        "\n",
        "a = [1.0, 1.0, 0.0]\n",
        "s10 = prob.transicion(s9,a)\n",
        "\n",
        "a = [3.0, 2.0, 2.0]\n",
        "s11 = prob.transicion(s10,a)\n",
        "\n",
        "a = [1.0, 2.0, 1.0]\n",
        "s12 = prob.transicion(s11,a)\n",
        "\n",
        "a = [2.0, 1.0, 2.0]\n",
        "s13 = prob.transicion(s12,a)\n",
        "\n",
        "a = [1.0, 0, 2.0]\n",
        "s14 = prob.transicion(s13,a)\n",
        "prob.pintar_estado(s14)\n",
        "\n",
        "print(\"El estado supera el test objetivo: \", prob.test_objetivo(s14))"
      ]
    },
    {
      "cell_type": "markdown",
      "source": [
        "Si bien es posible encontrar una solución de manera manual, no existe manera de verificar si esta es la solución óptima; considerando óptimo como el uso del menor número de movimientos para resolver el problema. De igual manera, el aumento en el número de discos supone un incremento en la complejidad del problema, lo que lleva a buscar métodos de solución en los diferentes algoritmos de **búsqueda a ciegas.**"
      ],
      "metadata": {
        "id": "92JJyZlOdc7l"
      },
      "id": "92JJyZlOdc7l"
    },
    {
      "cell_type": "markdown",
      "source": [
        "### Búsqueda a ciegas para solucionar el problema\n",
        "\n",
        "Los diferentes algoritmos de búsqueda a ciegas apuntan a resolver diversos tipos de problemas mediante la caracterización de las acciones disponibles a partir de las decisiones tomadas. Estos algoritmos, como su nombre lo indica, no poseen información sobre la profundidad ni ubicación de la solución; por lo que su método de encontrarla varía ampliamente. De esta manera, se busca comprender y comparar la eficacia de los mismos en esta situación específica, ya que dependiendo de las reglas de cada problema su desempeño puede variar.\n",
        "\n",
        "#### Búsqueda en anchura (Breadth first)\n",
        "El algoritmo de búsqueda en anchura (breadth-first search) se basa en la verificación de todas las acciones aplicables sobre el estado actual del problema. En el caso específico de las torres de Hanoi, este algoritmo verificará **si mover cada uno de los discos posibles solucionará el problema**, antes de elegir una acción específica y continuar buscando la solución. "
      ],
      "metadata": {
        "id": "TsXkjG7ASr4x"
      },
      "id": "TsXkjG7ASr4x"
    },
    {
      "cell_type": "code",
      "source": [
        "prob = Hannoi() \n",
        "s0 = prob.estado_inicial\n",
        "sol_breadth_first = breadth_first_search(prob)\n",
        "\n",
        "print(\"La solución encontrada es correcta: \", prob.test_objetivo(sol_breadth_first.estado))\n",
        "\n",
        "prob.pintar_estado(sol_breadth_first.estado)\n"
      ],
      "metadata": {
        "colab": {
          "base_uri": "https://localhost:8080/",
          "height": 283
        },
        "id": "tfdcLnILGANN",
        "outputId": "d62318b3-a68c-43e5-e6fc-d8550f01b35b"
      },
      "id": "tfdcLnILGANN",
      "execution_count": 103,
      "outputs": [
        {
          "output_type": "stream",
          "name": "stdout",
          "text": [
            "La solución encontrada es correcta:  True\n"
          ]
        },
        {
          "output_type": "execute_result",
          "data": {
            "text/plain": [
              "<matplotlib.axes._subplots.AxesSubplot at 0x7fb16dce2690>"
            ]
          },
          "metadata": {},
          "execution_count": 103
        },
        {
          "output_type": "display_data",
          "data": {
            "text/plain": [
              "<Figure size 432x288 with 1 Axes>"
            ],
            "image/png": "[encoded data removed]"
          },
          "metadata": {
            "needs_background": "light"
          }
        }
      ]
    },
    {
      "cell_type": "markdown",
      "source": [
        "Como se puede evidenciar, tanto por la imagen como por el método de confirmación, la solución encontrada es correcta."
      ],
      "metadata": {
        "id": "5P_o8ps8Sz1G"
      },
      "id": "5P_o8ps8Sz1G"
    },
    {
      "cell_type": "markdown",
      "source": [
        "#### Busqueda a profundidad (Depth first)\n",
        "Este algoritmo posee muchas similitudes en su funcionamiento con relación al anterior, sin embargo, se diferencia en su manera de explorar los diferentes estados del problema, profundizando en todas las posibles acciones a partir de cada estado hasta llegar a un estado final (**no necesariamente la solución**)."
      ],
      "metadata": {
        "id": "rmyGEnoSS2qG"
      },
      "id": "rmyGEnoSS2qG"
    },
    {
      "cell_type": "code",
      "source": [
        "prob = Hannoi() \n",
        "sol_depth_first = depth_first_search(prob)\n",
        "\n",
        "print(\"La solución encontrada es correcta: \", prob.test_objetivo(sol_depth_first.estado))\n",
        "\n",
        "prob.pintar_estado(sol_depth_first.estado)"
      ],
      "metadata": {
        "colab": {
          "base_uri": "https://localhost:8080/",
          "height": 283
        },
        "id": "G7T4NVtMG-LX",
        "outputId": "6ed1104d-136a-4882-9957-21e8cf28d7a8"
      },
      "id": "G7T4NVtMG-LX",
      "execution_count": 105,
      "outputs": [
        {
          "output_type": "stream",
          "name": "stdout",
          "text": [
            "La solución encontrada es correcta:  True\n"
          ]
        },
        {
          "output_type": "execute_result",
          "data": {
            "text/plain": [
              "<matplotlib.axes._subplots.AxesSubplot at 0x7fb16d9dbf50>"
            ]
          },
          "metadata": {},
          "execution_count": 105
        },
        {
          "output_type": "display_data",
          "data": {
            "text/plain": [
              "<Figure size 432x288 with 1 Axes>"
            ],
            "image/png": "[encoded data removed]"
          },
          "metadata": {
            "needs_background": "light"
          }
        }
      ]
    },
    {
      "cell_type": "markdown",
      "source": [
        "#### Busqueda a profundidad limitada (Depth limited)\n",
        "A pesar de que la solución encontrada por el algoritmo de búsqueda en produndidad es correcta, este se puede llegar a estancar si se poseen las condiciones necesarias. Dadas las reglas del problema, mover un disco implica directamente que se puede regresar a la posición anterior, así el algoritmo puede entrar en un ciclo infinito y consumir recursos computacionales de manera indefinida. Debido a esto, se hace más pertinente la utilización de la búsqueda en profundidad limitada; evitando el gasto de recursos y permitiendo identificar la cantidad mínima de movimientos necesarios para solucionar el problema"
      ],
      "metadata": {
        "id": "OCwjFdPrTC2Y"
      },
      "id": "OCwjFdPrTC2Y"
    },
    {
      "cell_type": "code",
      "source": [
        "prob = Hannoi() \n",
        "\n",
        "for i in range(10):\n",
        "    sol_depth_lim = depth_limited_search(prob,i)\n",
        "    if sol_depth_lim != 'cutoff':\n",
        "        print('La solución encontrada para una profundidad de ', i ,' es correcta: ', prob.test_objetivo(sol_depth_lim.estado))\n",
        "    else:\n",
        "        print(\"No se encontró solucion para una profundidad de: \", i)"
      ],
      "metadata": {
        "colab": {
          "base_uri": "https://localhost:8080/"
        },
        "id": "MjUwoQQeHNKO",
        "outputId": "3bff589d-9ee3-4b75-97ed-3ddf3169c0c8"
      },
      "id": "MjUwoQQeHNKO",
      "execution_count": 106,
      "outputs": [
        {
          "output_type": "stream",
          "name": "stdout",
          "text": [
            "No se encontró solucion para una profundidad de:  0\n",
            "No se encontró solucion para una profundidad de:  1\n",
            "No se encontró solucion para una profundidad de:  2\n",
            "No se encontró solucion para una profundidad de:  3\n",
            "No se encontró solucion para una profundidad de:  4\n",
            "No se encontró solucion para una profundidad de:  5\n",
            "No se encontró solucion para una profundidad de:  6\n",
            "La solución encontrada para una profundidad de  7  es correcta:  True\n",
            "La solución encontrada para una profundidad de  8  es correcta:  True\n",
            "La solución encontrada para una profundidad de  9  es correcta:  True\n"
          ]
        }
      ]
    },
    {
      "cell_type": "markdown",
      "source": [
        "Esta comprobación repetida da lugar al **algoritmo de profundización iterativa**, el cual realiza la comprobación de las soluciones hasta un nivel específico (denominado como profundidad máxima)."
      ],
      "metadata": {
        "id": "TZdxE4iLTLMX"
      },
      "id": "TZdxE4iLTLMX"
    },
    {
      "cell_type": "markdown",
      "source": [
        "### Algoritmo de Dijkstra (Best first)\n",
        "Este algoritmo permite encontrar la solución de menor costo, comparando constantemente los caminos que llevan al objetivo, más epescificamente los costos de cada uno de estos. Si se encuentra un camino con menor costo al actual, se elegirá ese hasta que se encuentre uno menor; resultando así en una solución óptima sin asegurar un mejor desempeño temporal."
      ],
      "metadata": {
        "id": "WH9RKF82UCVg"
      },
      "id": "WH9RKF82UCVg"
    },
    {
      "cell_type": "code",
      "source": [
        "prob = Hannoi()\n",
        "\n",
        "sol_best_first = best_first_search(prob)\n",
        "print(\"La solución encontrada es correcta: \", prob.test_objetivo(sol_best_first.estado))\n",
        "prob.pintar_estado(sol_best_first.estado)"
      ],
      "metadata": {
        "colab": {
          "base_uri": "https://localhost:8080/",
          "height": 283
        },
        "id": "C5pfnDYVWDD4",
        "outputId": "3159d4a6-4671-455d-945e-464d386d7ccd"
      },
      "id": "C5pfnDYVWDD4",
      "execution_count": 96,
      "outputs": [
        {
          "output_type": "stream",
          "name": "stdout",
          "text": [
            "La solución encontrada es correcta:  True\n"
          ]
        },
        {
          "output_type": "execute_result",
          "data": {
            "text/plain": [
              "<matplotlib.axes._subplots.AxesSubplot at 0x7fb1698433d0>"
            ]
          },
          "metadata": {},
          "execution_count": 96
        },
        {
          "output_type": "display_data",
          "data": {
            "text/plain": [
              "<Figure size 432x288 with 1 Axes>"
            ],
            "image/png": "[encoded data removed]"
          },
          "metadata": {
            "needs_background": "light"
          }
        }
      ]
    },
    {
      "cell_type": "markdown",
      "source": [
        "### Búsqueda Avara (Greedy search)\n",
        "Este algoritmo hace uso constante de una función heurística la cual acerca el estado actual hacía el objetivo, eligiendo los estados que mejor se adaptan a la función dada. Así, el algoritmo retorna valores cercanos al óptimo de una manera ágil."
      ],
      "metadata": {
        "id": "AjYQg1fYWpXH"
      },
      "id": "AjYQg1fYWpXH"
    },
    {
      "cell_type": "code",
      "source": [
        "# Función heurística\n",
        "def piezas_mal_puestas(estado):\n",
        "  prob = Hannoi(len(estado))\n",
        "  objetivo = prob.estado_objetivo\n",
        "  return len(np.argwhere(estado != objetivo))/2"
      ],
      "metadata": {
        "id": "n3ERazePHcSu"
      },
      "id": "n3ERazePHcSu",
      "execution_count": 98,
      "outputs": []
    },
    {
      "cell_type": "code",
      "source": [
        "prob = Hannoi()\n",
        "\n",
        "sol_greedy = greedy_search(prob, piezas_mal_puestas)\n",
        "\n",
        "print(\"La solución encontrada es correcta: \", prob.test_objetivo(sol_greedy.estado))\n",
        "\n",
        "prob.pintar_estado(sol_greedy.estado)"
      ],
      "metadata": {
        "colab": {
          "base_uri": "https://localhost:8080/",
          "height": 283
        },
        "id": "yA5_GB9zQmya",
        "outputId": "06792d41-bb50-4ef1-9b7e-021ad7be8ff9"
      },
      "id": "yA5_GB9zQmya",
      "execution_count": 112,
      "outputs": [
        {
          "output_type": "stream",
          "name": "stdout",
          "text": [
            "La solución encontrada es correcta:  True\n"
          ]
        },
        {
          "output_type": "execute_result",
          "data": {
            "text/plain": [
              "<matplotlib.axes._subplots.AxesSubplot at 0x7fb169c399d0>"
            ]
          },
          "metadata": {},
          "execution_count": 112
        },
        {
          "output_type": "display_data",
          "data": {
            "text/plain": [
              "<Figure size 432x288 with 1 Axes>"
            ],
            "image/png": "[encoded data removed]"
          },
          "metadata": {
            "needs_background": "light"
          }
        }
      ]
    },
    {
      "cell_type": "markdown",
      "source": [
        "##Comparación de tiempo y costos"
      ],
      "metadata": {
        "id": "YgXiUYZRI-1a"
      },
      "id": "YgXiUYZRI-1a"
    },
    {
      "cell_type": "code",
      "source": [
        "from random import sample\n",
        "import warnings\n",
        "warnings.filterwarnings('ignore')\n",
        "\n",
        "funs = [lambda x: breadth_first_search(x),\n",
        "        lambda x: depth_first_search(x),\n",
        "        lambda x: depth_limited_search(x,7),\n",
        "        lambda x: best_first_search(x,),\n",
        "        lambda x: greedy_search(x,piezas_mal_puestas),\n",
        "        lambda x: A_star(x, piezas_mal_puestas)\n",
        "    ]\n",
        "\n",
        "nombres = [\n",
        "    'breadth_first_search', \n",
        "    'depth_first_search',\n",
        "    'depth_limited_search',\n",
        "    'best_first_search',\n",
        "    'greedy_search',\n",
        "    'A_star'\n",
        "]\n",
        "\n",
        "arg = Hannoi()\n",
        "data = compara_funciones(funs=funs, arg=arg, nombres=nombres)\n",
        "# Graficando\n",
        "fig, ax = plt.subplots(1,1, figsize=(3*len(funs),6), tight_layout=True)\n",
        "sns.boxplot(data=data, x='Función', y='Tiempo')\n",
        "sns.swarmplot(data=data, x='Función', y='Tiempo', color='black', alpha = 0.5, ax=ax);\n",
        "# Anova diferencia de medias\n",
        "model = ols('Tiempo ~ C(Función)', data=data).fit()\n",
        "anova_table = sm.stats.anova_lm(model, typ=2)\n",
        "print(anova_table)"
      ],
      "metadata": {
        "colab": {
          "base_uri": "https://localhost:8080/",
          "height": 369
        },
        "id": "Pa_Hk4BQMHcM",
        "outputId": "704e4394-1c49-4977-9909-3cc6b35242a6"
      },
      "id": "Pa_Hk4BQMHcM",
      "execution_count": 120,
      "outputs": [
        {
          "output_type": "stream",
          "name": "stdout",
          "text": [
            "              sum_sq    df          F        PR(>F)\n",
            "C(Función)  0.000107   5.0  19.503292  4.795206e-11\n",
            "Residual    0.000059  54.0        NaN           NaN\n"
          ]
        },
        {
          "output_type": "display_data",
          "data": {
            "text/plain": [
              "<Figure size 1296x432 with 1 Axes>"
            ],
            "image/png": "[encoded data removed]"
          },
          "metadata": {
            "needs_background": "light"
          }
        }
      ]
    },
    {
      "cell_type": "code",
      "source": [
        "arg = Hannoi(4)\n",
        "data = compara_funciones(funs=funs, arg=arg, nombres=nombres)\n",
        "# Graficando\n",
        "fig, ax = plt.subplots(1,1, figsize=(3*len(funs),6), tight_layout=True)\n",
        "sns.boxplot(data=data, x='Función', y='Tiempo')\n",
        "sns.swarmplot(data=data, x='Función', y='Tiempo', color='black', alpha = 0.5, ax=ax);\n",
        "# Anova diferencia de medias\n",
        "model = ols('Tiempo ~ C(Función)', data=data).fit()\n",
        "anova_table = sm.stats.anova_lm(model, typ=2)\n",
        "print(anova_table)"
      ],
      "metadata": {
        "colab": {
          "base_uri": "https://localhost:8080/",
          "height": 369
        },
        "id": "UuUDR589P5tT",
        "outputId": "4b5e29e2-22e5-4e9a-ed02-5927a943ca24"
      },
      "id": "UuUDR589P5tT",
      "execution_count": 121,
      "outputs": [
        {
          "output_type": "stream",
          "name": "stdout",
          "text": [
            "              sum_sq    df          F        PR(>F)\n",
            "C(Función)  0.004896   5.0  66.862754  6.695061e-22\n",
            "Residual    0.000791  54.0        NaN           NaN\n"
          ]
        },
        {
          "output_type": "display_data",
          "data": {
            "text/plain": [
              "<Figure size 1296x432 with 1 Axes>"
            ],
            "image/png": "[encoded data removed]"
          },
          "metadata": {
            "needs_background": "light"
          }
        }
      ]
    },
    {
      "cell_type": "code",
      "source": [
        "print('Costo breadth first: ', sol_breadth_first.costo_camino)\n",
        "print('Costo depth first: ', sol_depth_first.costo_camino)\n",
        "print('Costo depth limited: ', sol_depth_lim.costo_camino)\n",
        "print('Costo best first: ', sol_best_first.costo_camino)\n",
        "print('Costo greedy: ', sol_greedy.costo_camino)"
      ],
      "metadata": {
        "colab": {
          "base_uri": "https://localhost:8080/"
        },
        "id": "uyCvTQ5dQG0C",
        "outputId": "572a9b64-a7b3-4880-efc8-9ed7429f09d5"
      },
      "id": "uyCvTQ5dQG0C",
      "execution_count": 113,
      "outputs": [
        {
          "output_type": "stream",
          "name": "stdout",
          "text": [
            "Costo breadth first:  7\n",
            "Costo depth first:  13\n",
            "Costo depth limited:  8\n",
            "Costo best first:  7\n",
            "Costo greedy:  9\n"
          ]
        }
      ]
    },
    {
      "cell_type": "markdown",
      "source": [
        "Una vez comparados los tiempos de ejecución para los diferentes algoritmos, procederemos a evaluar el desempeño de los mismos a nivel de optimización, es decir, el costo de las soluciones entregadas por estos. Con el fin de poseer una métrica relevante para medir la significancia de cada uno de los costos,estos se compararan con la medida exacta de la solución óptima, la cual se expresa en términos de la cantidad de discos en el entorno.\n",
        "\n",
        "$mincosto(n) = 2^n + 1$\n",
        "\n",
        "Para esta comparación se emplearán la búsqueda a profundidad, la búsqueda avara y el algoritmo $A^*$"
      ],
      "metadata": {
        "id": "3wzMVRNA8dLU"
      },
      "id": "3wzMVRNA8dLU"
    },
    {
      "cell_type": "code",
      "source": [
        "import warnings\n",
        "warnings.filterwarnings('ignore')\n",
        "\n",
        "costo_depth = []\n",
        "costo_greedy = []\n",
        "costo_astar = []\n",
        "optimal = []\n",
        "\n",
        "for n in range(1,8):\n",
        "  optimal.append((2**n)+1)\n",
        "  prob = Hannoi(n)\n",
        "  sol_depth = depth_first_search(prob)\n",
        "  sol_greedy = greedy_search(prob, piezas_mal_puestas)\n",
        "  sol_a = A_star(prob, piezas_mal_puestas)\n",
        "\n",
        "  costo_depth.append(sol_depth.costo_camino)\n",
        "  costo_greedy.append(sol_greedy.costo_camino)\n",
        "  costo_astar.append(sol_a.costo_camino)\n",
        "\n",
        "\n",
        "t = np.arange(1,8,1)\n",
        "plt.plot(t,costo_depth, 'rs', t,optimal, 'o', linestyle = '-')\n",
        "plt.plot(t,costo_astar, 'gD', linestyle = '-')\n",
        "plt.plot(t,costo_greedy, 'cd', linestyle = '-')\n",
        "plt.legend(['depth','optimal', 'A*', 'gredy'])\n",
        "plt.xlabel('# Discos')\n",
        "plt.ylabel('# Movimientos')\n",
        "plt.show()\n",
        "\n"
      ],
      "metadata": {
        "colab": {
          "base_uri": "https://localhost:8080/",
          "height": 279
        },
        "id": "ACLgnecK-LVM",
        "outputId": "c2b91ae7-bfc7-41e4-fb8a-ff459bd791f9"
      },
      "id": "ACLgnecK-LVM",
      "execution_count": 117,
      "outputs": [
        {
          "output_type": "display_data",
          "data": {
            "text/plain": [
              "<Figure size 432x288 with 1 Axes>"
            ],
            "image/png": "[encoded data removed]"
          },
          "metadata": {
            "needs_background": "light"
          }
        }
      ]
    }
  ],
  "metadata": {
    "kernelspec": {
      "display_name": "Python 3 (ipykernel)",
      "language": "python",
      "name": "python3"
    },
    "language_info": {
      "codemirror_mode": {
        "name": "ipython",
        "version": 3
      },
      "file_extension": ".py",
      "mimetype": "text/x-python",
      "name": "python",
      "nbconvert_exporter": "python",
      "pygments_lexer": "ipython3",
      "version": "3.9.7"
    },
    "colab": {
      "name": "Proyecto 1 -  Torres de Hanoi.ipynb",
      "provenance": [],
      "collapsed_sections": []
    }
  },
  "nbformat": 4,
  "nbformat_minor": 5
}