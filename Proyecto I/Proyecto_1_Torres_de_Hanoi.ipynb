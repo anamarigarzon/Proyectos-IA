{
 "cells": [
  {
   "cell_type": "markdown",
   "id": "35b4097f",
   "metadata": {
    "id": "35b4097f"
   },
   "source": [
    "# Proyecto 1 - Torres de Hanoi\n",
    "\n",
    "##### Ana María Garzón y Felipe Muñoz\n",
    "\n",
    "Este proyecto tiene como objetivo encontrar la mejor secuencia para solucionar una versión del problema de las Torres de Hanoi. Este tiene como entorno tres postes y un conjunto de discos, cada uno con un hoyo en el centro y todos de distinto radio. El estado inicial del problema consiste en que todos los discos se encuentran ubicados en un único poste y cada disco descansa sobre otro de radio mayor. El problema a solucionar es mover todos los discos a otro poste, de modo que solo se puede mover un disco a la vez y todos los demás discos deben estar en un poste. Además, no se puede poner un disco sobre uno de menor radio. Es necesario considerar que esta situación es generalizable para n discos sin cambiar sus reglas de manera significativa."
   ]
  },
  {
   "cell_type": "markdown",
   "id": "e29afc51",
   "metadata": {
    "id": "e29afc51"
   },
   "source": [
    "### Ambiente y métodos"
   ]
  },
  {
   "cell_type": "markdown",
   "id": "3d5573cd",
   "metadata": {
    "id": "3d5573cd"
   },
   "source": [
    "Para comenzar, importaremos el ambiente creado por Daniel Ramírez y Jenny Rivera"
   ]
  },
  {
   "cell_type": "code",
   "execution_count": 75,
   "id": "815800fe",
   "metadata": {
    "id": "815800fe"
   },
   "outputs": [],
   "source": [
    "from AmbientesMP import *\n",
    "from busqueda import *\n",
    "prob = Hannoi()"
   ]
  },
  {
   "cell_type": "markdown",
   "id": "ecc59818",
   "metadata": {
    "id": "ecc59818"
   },
   "source": [
    "A continuación, la visualización del estado inicial para un problema con tres discos."
   ]
  },
  {
   "cell_type": "code",
   "execution_count": 19,
   "id": "877f8dcc",
   "metadata": {
    "colab": {
     "base_uri": "https://localhost:8080/",
     "height": 581
    },
    "id": "877f8dcc",
    "outputId": "6e68243c-1eae-4f1c-d617-4142d37d7ad0"
   },
   "outputs": [
    {
     "data": {
      "text/plain": [
       "<AxesSubplot:>"
      ]
     },
     "execution_count": 19,
     "metadata": {},
     "output_type": "execute_result"
    },
    {
     "data": {
      "image/png": "[encoded data removed]",
      "text/plain": [
       "<Figure size 432x288 with 1 Axes>"
      ]
     },
     "metadata": {
      "needs_background": "light"
     },
     "output_type": "display_data"
    }
   ],
   "source": [
    "s0 = prob.estado_inicial\n",
    "prob.pintar_estado(s0)"
   ]
  },
  {
   "cell_type": "markdown",
   "id": "9aedd26c",
   "metadata": {
    "id": "9aedd26c"
   },
   "source": [
    "Ahora, mostraremos como funcionan las transiciones del ambiente:"
   ]
  },
  {
   "cell_type": "code",
   "execution_count": 20,
   "id": "ddf5b4ed",
   "metadata": {
    "id": "ddf5b4ed",
    "outputId": "1134ed47-dbc6-4ab5-d06a-a0e3eddef137"
   },
   "outputs": [
    {
     "data": {
      "text/plain": [
       "[[1.0, 2.0, 1.0], [1.0, 2.0, 2.0]]"
      ]
     },
     "execution_count": 20,
     "metadata": {},
     "output_type": "execute_result"
    }
   ],
   "source": [
    "# Método acciones aplicables\n",
    "# Retorna un arreglo de listas con 3 componentes: 1 el radio de la ficha a mover,\n",
    "# 2 la fila a la que se debe mover, 3 la columna a la que se mueve el disco\n",
    "prob.acciones_aplicables(s0) "
   ]
  },
  {
   "cell_type": "code",
   "execution_count": 21,
   "id": "9d024d00",
   "metadata": {
    "colab": {
     "base_uri": "https://localhost:8080/",
     "height": 265
    },
    "id": "9d024d00",
    "outputId": "cd5afa4d-3f13-4eac-d393-9ed303a58c9a"
   },
   "outputs": [
    {
     "name": "stdout",
     "output_type": "stream",
     "text": [
      "El costo de está acción es:  1\n"
     ]
    },
    {
     "data": {
      "image/png": "[encoded data removed]",
      "text/plain": [
       "<Figure size 432x288 with 1 Axes>"
      ]
     },
     "metadata": {
      "needs_background": "light"
     },
     "output_type": "display_data"
    }
   ],
   "source": [
    "# Ejecutar accion aplicable en la posición 0\n",
    "# Mueve la ficha de radio 1, a la fila 2 y columna 1\n",
    "a = prob.acciones_aplicables(s0)[0]\n",
    "s1 = prob.transicion(s0,a) # método de transición de un estado a otro\n",
    "prob.pintar_estado(s1)\n",
    "print(\"El costo de está acción es: \", prob.costo(s0,a)) # El costo de mover una ficha es de 1"
   ]
  },
  {
   "cell_type": "code",
   "execution_count": 80,
   "id": "8069a8f1",
   "metadata": {
    "id": "8069a8f1",
    "outputId": "431df6b5-592d-4aff-be30-1b2e2a0d85ee"
   },
   "outputs": [
    {
     "name": "stdout",
     "output_type": "stream",
     "text": [
      "4.0-4.0-4.0-2.0-4.0-4.0-3.0-1.0-4.0\n"
     ]
    }
   ],
   "source": [
    "# Método código\n",
    "# Cada estado tiene un código único que lo diferencia de los demás, retornado con este método\n",
    "print(prob.codigo(s1))"
   ]
  },
  {
   "cell_type": "code",
   "execution_count": 23,
   "id": "017f6e9c",
   "metadata": {
    "id": "017f6e9c",
    "outputId": "cd148212-faa9-4157-bd59-f8177f7e58bc"
   },
   "outputs": [
    {
     "data": {
      "text/plain": [
       "False"
      ]
     },
     "execution_count": 23,
     "metadata": {},
     "output_type": "execute_result"
    }
   ],
   "source": [
    "# Método test objetivo\n",
    "# Retorna verdadero o falso\n",
    "# Evalúa si el estado (input) corresponde o no a la solución del problema.\n",
    "prob.test_objetivo(s1)"
   ]
  },
  {
   "cell_type": "markdown",
   "id": "8T8VUN58ZOml",
   "metadata": {
    "id": "8T8VUN58ZOml"
   },
   "source": [
    "Como se puede ver en la figura, el disco de radio de menor radio se ha movido, sin embargo, este movimiento no ha logrado un\n",
    "estado considerado como válido para solucionar al problema, es por esto que falla el test objetivo.\n",
    "\n",
    "Con el fin de illustrar mostraremos un escenario final donde el test objetivo debe retornar aprobado."
   ]
  },
  {
   "cell_type": "code",
   "execution_count": 24,
   "id": "k54_7o9nZuD8",
   "metadata": {
    "colab": {
     "base_uri": "https://localhost:8080/"
    },
    "id": "k54_7o9nZuD8",
    "outputId": "6a1b9b2d-d222-4208-9cd1-61eae9925c16"
   },
   "outputs": [
    {
     "data": {
      "text/plain": [
       "[[2.0, 2.0, 2.0], [1.0, 0.0, 0.0], [1.0, 2.0, 2.0]]"
      ]
     },
     "execution_count": 24,
     "metadata": {},
     "output_type": "execute_result"
    }
   ],
   "source": [
    "prob.acciones_aplicables(s1)"
   ]
  },
  {
   "cell_type": "code",
   "execution_count": 25,
   "id": "d040841c",
   "metadata": {
    "colab": {
     "base_uri": "https://localhost:8080/",
     "height": 265
    },
    "id": "d040841c",
    "outputId": "7404d0f2-d865-4929-aeec-58e6f0a2886f"
   },
   "outputs": [
    {
     "name": "stdout",
     "output_type": "stream",
     "text": [
      "El estado supera el test objetivo:  True\n"
     ]
    },
    {
     "data": {
      "image/png": "[encoded data removed]",
      "text/plain": [
       "<Figure size 432x288 with 1 Axes>"
      ]
     },
     "metadata": {
      "needs_background": "light"
     },
     "output_type": "display_data"
    }
   ],
   "source": [
    "a = prob.acciones_aplicables(s1)[2]\n",
    "s2 = prob.transicion(s1,a) \n",
    "\n",
    "a = [2.0, 2.0, 1.0]\n",
    "s3 = prob.transicion(s2,a) \n",
    "\n",
    "a = [1.0, 1.0, 0.0]\n",
    "s4 = prob.transicion(s3,a) \n",
    "\n",
    "a = [2.0, 2.0, 2.0]\n",
    "s5 = prob.transicion(s4,a)\n",
    "\n",
    "a= [1.0, 1.0, 2.0]\n",
    "s6 = prob.transicion(s5,a)\n",
    "\n",
    "a = [3.0, 2.0, 1.0]\n",
    "s7 = prob.transicion(s6,a)\n",
    "\n",
    "a = [1.0, 1.0, 1.0]\n",
    "s8 = prob.transicion(s7,a)\n",
    "\n",
    "a = [2.0, 2.0, 0.0]\n",
    "s9 = prob.transicion(s8,a)\n",
    "\n",
    "a = [1.0, 1.0, 0.0]\n",
    "s10 = prob.transicion(s9,a)\n",
    "\n",
    "a = [3.0, 2.0, 2.0]\n",
    "s11 = prob.transicion(s10,a)\n",
    "\n",
    "a = [1.0, 2.0, 1.0]\n",
    "s12 = prob.transicion(s11,a)\n",
    "\n",
    "a = [2.0, 1.0, 2.0]\n",
    "s13 = prob.transicion(s12,a)\n",
    "\n",
    "a = [1.0, 0, 2.0]\n",
    "s14 = prob.transicion(s13,a)\n",
    "prob.pintar_estado(s14)\n",
    "\n",
    "print(\"El estado supera el test objetivo: \", prob.test_objetivo(s14))"
   ]
  },
  {
   "cell_type": "markdown",
   "id": "92JJyZlOdc7l",
   "metadata": {
    "id": "92JJyZlOdc7l"
   },
   "source": [
    "Si bien es posible encontrar una solución de manera manual, no existe manera de verificar si esta es la solución óptima; considerando óptimo como el uso del menor número de movimientos para resolver el problema. De igual manera, el aumento en el número de discos supone un incremento en la complejidad del problema, lo que lleva a buscar métodos de solución en los diferentes algoritmos de **búsqueda a ciegas.**"
   ]
  },
  {
   "cell_type": "markdown",
   "id": "acute-deputy",
   "metadata": {},
   "source": [
    "### Búsqueda a ciegas para solucionar el problema\n",
    "\n",
    "Los diferentes algoritmos de búsqueda a ciegas apuntan a resolver diversos tipos de problemas mediante la caracterización de las acciones disponibles a partir de las decisiones tomadas. Estos algoritmos, como su nombre lo indica, no poseen información sobre la profundidad ni ubicación de la solución; por lo que su método de encontrarla varía ampliamente. De esta manera, se busca comprender y comparar la eficacia de los mismos en esta situación específica, ya que dependiendo de las reglas de cada problema su desempeño puede variar.\n",
    "\n",
    "#### Búsqueda en anchura (Breadth first)\n",
    "El algoritmo de búsqueda en anchura (breadth-first search) se basa en la verificación de todas las acciones aplicables sobre el estado actual del problema. En el caso específico de las torres de Hanoi, este algoritmo verificará **si mover cada uno de los discos posibles solucionará el problema**, antes de elegir una acción específica y continuar buscando la solución.  "
   ]
  },
  {
   "cell_type": "code",
   "execution_count": 103,
   "id": "prospective-video",
   "metadata": {},
   "outputs": [
    {
     "name": "stdout",
     "output_type": "stream",
     "text": [
      "La solución encontrada es correcta:  True\n"
     ]
    },
    {
     "data": {
      "text/plain": [
       "<AxesSubplot:>"
      ]
     },
     "execution_count": 103,
     "metadata": {},
     "output_type": "execute_result"
    },
    {
     "data": {
      "image/png": "[encoded data removed]",
      "text/plain": [
       "<Figure size 432x288 with 1 Axes>"
      ]
     },
     "metadata": {
      "needs_background": "light"
     },
     "output_type": "display_data"
    }
   ],
   "source": [
    "prob = Hannoi() \n",
    "s0 = prob.estado_inicial\n",
    "sol_breadth_first = breadth_first(prob)\n",
    "\n",
    "print(\"La solución encontrada es correcta: \", prob.test_objetivo(sol_breadth_first))\n",
    "\n",
    "prob.pintar_estado(sol_breadth_first)"
   ]
  },
  {
   "cell_type": "markdown",
   "id": "secure-beverage",
   "metadata": {},
   "source": [
    "Como se puede evidenciar, tanto por la imagen como por el método de confirmación, la solución encontrada es correcta."
   ]
  },
  {
   "cell_type": "markdown",
   "id": "golden-lesbian",
   "metadata": {},
   "source": [
    "#### Busqueda a profundidad (Depth first)\n",
    "Este algoritmo posee muchas similitudes en su funcionamiento con relación al anterior, sin embargo, se diferencia en su manera de explorar los diferentes estados del problema, profundizando en todas las posibles acciones a partir de cada estado hasta llegar a un estado final (**no necesariamente la solución**)."
   ]
  },
  {
   "cell_type": "code",
   "execution_count": 88,
   "id": "occupational-israel",
   "metadata": {
    "scrolled": false
   },
   "outputs": [
    {
     "name": "stdout",
     "output_type": "stream",
     "text": [
      "La solución encontrada es correcta:  True\n"
     ]
    },
    {
     "data": {
      "text/plain": [
       "<AxesSubplot:>"
      ]
     },
     "execution_count": 88,
     "metadata": {},
     "output_type": "execute_result"
    },
    {
     "data": {
      "image/png": "[encoded data removed]",
      "text/plain": [
       "<Figure size 432x288 with 1 Axes>"
      ]
     },
     "metadata": {
      "needs_background": "light"
     },
     "output_type": "display_data"
    }
   ],
   "source": [
    "prob = Hannoi() \n",
    "sol_depth_first = depth_first_search(prob)\n",
    "\n",
    "print(\"La solución encontrada es correcta: \", prob.test_objetivo(sol_depth_first.estado))\n",
    "\n",
    "prob.pintar_estado(sol_depth_first.estado)"
   ]
  },
  {
   "cell_type": "markdown",
   "id": "signed-rebel",
   "metadata": {},
   "source": [
    "#### Busqueda a profundidad limitada (Depth limited)\n",
    "A pesar de que la solución encontrada por el algoritmo de búsqueda en produndidad es correcta, este se puede llegar a estancar si se poseen las condiciones necesarias. Dadas las reglas del problema, mover un disco implica directamente que se puede regresar a la posición anterior, así el algoritmo puede entrar en un ciclo infinito y consumir recursos computacionales de manera indefinida. Debido a esto, se hace más pertinente la utilización de la búsqueda en profundidad limitada; evitando el gasto de recursos y permitiendo identificar la cantidad mínima de movimientos necesarios para solucionar el problema"
   ]
  },
  {
   "cell_type": "code",
   "execution_count": 101,
   "id": "integral-slide",
   "metadata": {},
   "outputs": [
    {
     "name": "stdout",
     "output_type": "stream",
     "text": [
      "No se encontró solucion para una profundidad de:  0\n",
      "No se encontró solucion para una profundidad de:  1\n",
      "No se encontró solucion para una profundidad de:  2\n",
      "No se encontró solucion para una profundidad de:  3\n",
      "No se encontró solucion para una profundidad de:  4\n",
      "No se encontró solucion para una profundidad de:  5\n",
      "No se encontró solucion para una profundidad de:  6\n",
      "La solución encontrada para una profundidad de  7  es correcta:  True\n",
      "La solución encontrada para una profundidad de  8  es correcta:  True\n",
      "La solución encontrada para una profundidad de  9  es correcta:  True\n"
     ]
    }
   ],
   "source": [
    "prob = Hannoi() \n",
    "\n",
    "for i in range(10):\n",
    "    sol_depth_lim = depth_limited_search(prob,i)\n",
    "    if sol_depth_lim != 'cutoff':\n",
    "        print('La solución encontrada para una profundidad de ', i ,' es correcta: ', prob.test_objetivo(sol_depth_lim.estado))\n",
    "    else:\n",
    "        print(\"No se encontró solucion para una profundidad de: \", i)"
   ]
  },
  {
   "cell_type": "markdown",
   "id": "sweet-strain",
   "metadata": {},
   "source": [
    "Esta comprobación repetida da lugar al **algoritmo de profundización iterativa**, el cual realiza la comprobación de las soluciones hasta un nivel específico (denominado como profundidad máxima)."
   ]
  }
 ],
 "metadata": {
  "colab": {
   "collapsed_sections": [],
   "name": "Proyecto 1 -  Torres de Hanoi.ipynb",
   "provenance": []
  },
  "kernelspec": {
   "display_name": "Python 3",
   "language": "python",
   "name": "python3"
  },
  "language_info": {
   "codemirror_mode": {
    "name": "ipython",
    "version": 3
   },
   "file_extension": ".py",
   "mimetype": "text/x-python",
   "name": "python",
   "nbconvert_exporter": "python",
   "pygments_lexer": "ipython3",
   "version": "3.8.2"
  }
 },
 "nbformat": 4,
 "nbformat_minor": 5
}
