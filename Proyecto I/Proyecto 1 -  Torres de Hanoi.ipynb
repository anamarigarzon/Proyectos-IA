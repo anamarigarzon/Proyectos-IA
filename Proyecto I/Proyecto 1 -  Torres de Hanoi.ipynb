{
 "cells": [
  {
   "cell_type": "markdown",
   "id": "35b4097f",
   "metadata": {},
   "source": [
    "# Proyecto 1 - Torres de Hanoi\n",
    "\n",
    "##### Ana María Garzón y Felipe Muñoz\n",
    "\n",
    "Este proyecto tiene como objetivo encontrar la mejor secuencia para solucionar una versión del problema de las Torres de Hanoi. Este tiene como entorno tres postes y un conjunto de discos, cada uno con un hoyo en el centro y todos de distinto radio. El estado inicial del problema consiste en que todos los discos se encuentran ubicados en un único poste y cada disco descansa sobre otro de radio mayor. El problema a solucionar es mover todos los discos a otro poste, de modo que solo se puede mover un disco a la vez y todos los demás discos deben estar en un poste. Además, no se puede poner un disco sobre uno de menor radio."
   ]
  },
  {
   "cell_type": "markdown",
   "id": "e29afc51",
   "metadata": {},
   "source": [
    "### Ambiente y métodos"
   ]
  },
  {
   "cell_type": "markdown",
   "id": "3d5573cd",
   "metadata": {},
   "source": [
    "Para comenzar, importaremos el ambiente creado por Daniel Ramírez y Jenny Rivera"
   ]
  },
  {
   "cell_type": "code",
   "execution_count": 1,
   "id": "815800fe",
   "metadata": {},
   "outputs": [],
   "source": [
    "from AmbientesMP import *\n",
    "prob = Hannoi()"
   ]
  },
  {
   "cell_type": "markdown",
   "id": "ecc59818",
   "metadata": {},
   "source": [
    "A continuación, la visualización del estado inicial para un problema con tres discos."
   ]
  },
  {
   "cell_type": "code",
   "execution_count": 2,
   "id": "877f8dcc",
   "metadata": {},
   "outputs": [
    {
     "data": {
      "text/plain": [
       "<AxesSubplot:>"
      ]
     },
     "execution_count": 2,
     "metadata": {},
     "output_type": "execute_result"
    },
    {
     "data": {
      "image/png": "[encoded data removed]",
      "text/plain": [
       "<Figure size 432x288 with 1 Axes>"
      ]
     },
     "metadata": {
      "needs_background": "light"
     },
     "output_type": "display_data"
    }
   ],
   "source": [
    "s0 = prob.estado_inicial\n",
    "prob.pintar_estado(s0)"
   ]
  },
  {
   "cell_type": "markdown",
   "id": "9aedd26c",
   "metadata": {},
   "source": [
    "Ahora, mostraremos como funcionan las transiciones del ambiente:"
   ]
  },
  {
   "cell_type": "code",
   "execution_count": 4,
   "id": "ddf5b4ed",
   "metadata": {},
   "outputs": [
    {
     "data": {
      "text/plain": [
       "[[1.0, 2.0, 1.0], [1.0, 2.0, 2.0]]"
      ]
     },
     "execution_count": 4,
     "metadata": {},
     "output_type": "execute_result"
    }
   ],
   "source": [
    "# Método acciones aplicables\n",
    "# Retorna un arreglo de listas con 3 componentes: 1 el radio de la ficha a mover,\n",
    "# 2 la fila a la que se debe mover, 3 la columna\n",
    "prob.acciones_aplicables(s0) "
   ]
  },
  {
   "cell_type": "code",
   "execution_count": 10,
   "id": "9d024d00",
   "metadata": {},
   "outputs": [
    {
     "name": "stdout",
     "output_type": "stream",
     "text": [
      "El costo de está acción es:  1\n"
     ]
    },
    {
     "data": {
      "image/png": "[encoded data removed]",
      "text/plain": [
       "<Figure size 432x288 with 1 Axes>"
      ]
     },
     "metadata": {
      "needs_background": "light"
     },
     "output_type": "display_data"
    }
   ],
   "source": [
    "# Ejecutar accion aplicable en la posición 0\n",
    "# Mueve la ficha de radio 1, a la fila 2 y columna 1\n",
    "a = prob.acciones_aplicables(s0)[0]\n",
    "s1 = prob.transicion(s0,a) # método de transición de un estado a otro\n",
    "prob.pintar_estado(s1)\n",
    "print(\"El costo de está acción es: \", prob.costo(s0,a)) # El costo de mover una ficha es de 1"
   ]
  },
  {
   "cell_type": "code",
   "execution_count": 11,
   "id": "8069a8f1",
   "metadata": {},
   "outputs": [
    {
     "name": "stdout",
     "output_type": "stream",
     "text": [
      "4.0-4.0-4.0-2.0-4.0-4.0-3.0-1.0-4.0\n"
     ]
    }
   ],
   "source": [
    "# Método código\n",
    "# Cada estado tiene un código único que lo diferencia de los demás, retornado con este método\n",
    "print(prob.codigo(s1))"
   ]
  },
  {
   "cell_type": "code",
   "execution_count": 12,
   "id": "017f6e9c",
   "metadata": {},
   "outputs": [
    {
     "data": {
      "text/plain": [
       "False"
      ]
     },
     "execution_count": 12,
     "metadata": {},
     "output_type": "execute_result"
    }
   ],
   "source": [
    "# Método test objetivo\n",
    "# Retorna verdadero o falso\n",
    "# Evalúa si el estado (input) corresponde o no a la solución del problema.\n",
    "prob.test_objetivo(s1)"
   ]
  },
  {
   "cell_type": "code",
   "execution_count": null,
   "id": "d040841c",
   "metadata": {},
   "outputs": [],
   "source": []
  }
 ],
 "metadata": {
  "kernelspec": {
   "display_name": "Python 3 (ipykernel)",
   "language": "python",
   "name": "python3"
  },
  "language_info": {
   "codemirror_mode": {
    "name": "ipython",
    "version": 3
   },
   "file_extension": ".py",
   "mimetype": "text/x-python",
   "name": "python",
   "nbconvert_exporter": "python",
   "pygments_lexer": "ipython3",
   "version": "3.9.7"
  }
 },
 "nbformat": 4,
 "nbformat_minor": 5
}
